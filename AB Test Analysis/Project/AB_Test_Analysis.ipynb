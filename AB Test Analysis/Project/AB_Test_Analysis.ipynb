{
  "nbformat": 4,
  "nbformat_minor": 0,
  "metadata": {
    "colab": {
      "provenance": []
    },
    "kernelspec": {
      "name": "python3",
      "display_name": "Python 3"
    },
    "language_info": {
      "name": "python"
    }
  },
  "cells": [
    {
      "cell_type": "markdown",
      "source": [
        "**Mock Data Generation**"
      ],
      "metadata": {
        "id": "dLmajGokcefx"
      }
    },
    {
      "cell_type": "code",
      "execution_count": 39,
      "metadata": {
        "id": "DV2FkMkRWuLl"
      },
      "outputs": [],
      "source": [
        "import pandas as pd\n",
        "import numpy as np\n",
        "from datetime import datetime, timedelta\n",
        "\n",
        "# Generate mock A/B test data\n",
        "np.random.seed(42)\n",
        "\n",
        "num_users_per_group = 5000\n",
        "start_date = datetime(2023, 11, 1)\n",
        "test_duration_days = 14  # 2-week test\n",
        "\n",
        "# Control Group (A)\n",
        "control_user_ids = [f'UserA_{10000+i}' for i in range(num_users_per_group)]\n",
        "control_group_assignment = ['Control'] * num_users_per_group\n",
        "control_conversions = np.random.binomial(1, 0.10, num_users_per_group)  # 10% baseline\n",
        "control_clicks = np.random.randint(0, 15, num_users_per_group)\n",
        "control_page_views = control_clicks + np.random.randint(1, 5, num_users_per_group)\n",
        "control_page_views = np.maximum(1, control_page_views)\n",
        "\n",
        "# Treatment Group (B) – slight uplift\n",
        "treatment_user_ids = [f'UserB_{20000+i}' for i in range(num_users_per_group)]\n",
        "treatment_group_assignment = ['Treatment'] * num_users_per_group\n",
        "treatment_conversions = np.random.binomial(1, 0.115, num_users_per_group)  # 11.5%\n",
        "treatment_clicks = np.random.randint(0, 17, num_users_per_group)\n",
        "treatment_page_views = treatment_clicks + np.random.randint(1, 5, num_users_per_group)\n",
        "treatment_page_views = np.maximum(1, treatment_page_views)\n",
        "\n",
        "# Combine data\n",
        "all_user_ids = control_user_ids + treatment_user_ids\n",
        "all_groups = control_group_assignment + treatment_group_assignment\n",
        "all_conversions = np.concatenate([control_conversions, treatment_conversions])\n",
        "all_clicks = np.concatenate([control_clicks, treatment_clicks])\n",
        "all_page_views = np.concatenate([control_page_views, treatment_page_views])\n",
        "\n",
        "# Assign random dates within the test period\n",
        "all_dates = [\n",
        "    (start_date + timedelta(days=np.random.randint(0, test_duration_days))).strftime('%Y-%m-%d')\n",
        "    for _ in range(num_users_per_group * 2)\n",
        "]\n",
        "\n",
        "# Create DataFrame\n",
        "df_ab_test = pd.DataFrame({\n",
        "    'UserID': all_user_ids,\n",
        "    'Group': all_groups,\n",
        "    'Date': all_dates,\n",
        "    'PageViews': all_page_views,\n",
        "    'Clicks': all_clicks,\n",
        "    'Converted': all_conversions\n",
        "})\n",
        "\n",
        "# Ensure clicks are not more than page views\n",
        "df_ab_test['Clicks'] = df_ab_test.apply(\n",
        "    lambda row: min(row['Clicks'], row['PageViews']),\n",
        "    axis=1\n",
        ")\n"
      ]
    },
    {
      "cell_type": "code",
      "source": [
        "df_ab_test.to_csv('ab_test_results_mock_data.csv', index=False)\n",
        "print(\"Mock A/B test data generated: ab_test_results_mock_data.csv\")\n",
        "print(df_ab_test.sample(10, random_state=42))"
      ],
      "metadata": {
        "colab": {
          "base_uri": "https://localhost:8080/"
        },
        "id": "4WLuj5ymbAh0",
        "outputId": "301e4dc3-f7eb-4326-a110-d46e70fc3410"
      },
      "execution_count": 40,
      "outputs": [
        {
          "output_type": "stream",
          "name": "stdout",
          "text": [
            "Mock A/B test data generated: ab_test_results_mock_data.csv\n",
            "           UserID      Group        Date  PageViews  Clicks  Converted\n",
            "6252  UserB_21252  Treatment  2023-11-07          8       4          0\n",
            "4684  UserA_14684    Control  2023-11-10          5       1          0\n",
            "1731  UserA_11731    Control  2023-11-04          8       6          0\n",
            "4742  UserA_14742    Control  2023-11-12          3       2          0\n",
            "4521  UserA_14521    Control  2023-11-12         12       8          0\n",
            "6340  UserB_21340  Treatment  2023-11-03          7       3          0\n",
            "576   UserA_10576    Control  2023-11-08          4       0          0\n",
            "5202  UserB_20202  Treatment  2023-11-05         15      14          1\n",
            "6363  UserB_21363  Treatment  2023-11-12         16      14          1\n",
            "439   UserA_10439    Control  2023-11-08          9       8          0\n"
          ]
        }
      ]
    },
    {
      "cell_type": "markdown",
      "source": [
        "Objective:\n",
        "\n",
        "Analyze the results of an A/B test conducted on a website to determine if a new feature (treatment group) had a statistically significant impact on a key metric (e.g., conversion rate, click-through rate) compared to the existing version (control group)."
      ],
      "metadata": {
        "id": "ZkUvF9tNdB2l"
      }
    },
    {
      "cell_type": "code",
      "source": [
        "# This A/B test evaluates whether introducing a new website feature (Treatment group) improves the conversion rate compared to the existing version (Control group).\n",
        "\n",
        "# Hypothesis:\n",
        "# Null (H₀): No difference in conversion rates between Control and Treatment groups.\n",
        "# Alternative (H₁): Conversion rates differ between the two groups.\n",
        "\n",
        "# Key Metric:\n",
        "# Primary: Conversion Rate = Converted Users / Total Users\n",
        "# Secondary (Optional): Clicks, Page Views\n",
        "\n",
        "# Group Assignment:\n",
        "# 5,000 users in each group (Control & Treatment)\n",
        "# Assigned randomly using unique user IDs with clear separation\n",
        "# No overlap between groups\n",
        "\n",
        "# Test Duration:\n",
        "# 14 days\n",
        "# Start Date: November 1, 2023\n",
        "# User activity is distributed randomly across the test window"
      ],
      "metadata": {
        "id": "oNgOrLoobOPr"
      },
      "execution_count": 41,
      "outputs": []
    },
    {
      "cell_type": "markdown",
      "source": [
        "**Data Loading and Cleaning**"
      ],
      "metadata": {
        "id": "FNezNZIvdu3m"
      }
    },
    {
      "cell_type": "code",
      "source": [
        "data = pd.read_csv(\"/content/ab_test_results_mock_data.csv\")\n",
        "data.head()"
      ],
      "metadata": {
        "colab": {
          "base_uri": "https://localhost:8080/",
          "height": 206
        },
        "id": "JLO190XTdhYd",
        "outputId": "43c1fee1-e483-4c41-f625-568986a619d6"
      },
      "execution_count": 42,
      "outputs": [
        {
          "output_type": "execute_result",
          "data": {
            "text/plain": [
              "        UserID    Group        Date  PageViews  Clicks  Converted\n",
              "0  UserA_10000  Control  2023-11-08          5       2          0\n",
              "1  UserA_10001  Control  2023-11-14          8       7          1\n",
              "2  UserA_10002  Control  2023-11-03          7       6          0\n",
              "3  UserA_10003  Control  2023-11-06          6       2          0\n",
              "4  UserA_10004  Control  2023-11-03          6       5          0"
            ],
            "text/html": [
              "\n",
              "  <div id=\"df-6f974ced-7320-42a3-8121-a36554349bce\" class=\"colab-df-container\">\n",
              "    <div>\n",
              "<style scoped>\n",
              "    .dataframe tbody tr th:only-of-type {\n",
              "        vertical-align: middle;\n",
              "    }\n",
              "\n",
              "    .dataframe tbody tr th {\n",
              "        vertical-align: top;\n",
              "    }\n",
              "\n",
              "    .dataframe thead th {\n",
              "        text-align: right;\n",
              "    }\n",
              "</style>\n",
              "<table border=\"1\" class=\"dataframe\">\n",
              "  <thead>\n",
              "    <tr style=\"text-align: right;\">\n",
              "      <th></th>\n",
              "      <th>UserID</th>\n",
              "      <th>Group</th>\n",
              "      <th>Date</th>\n",
              "      <th>PageViews</th>\n",
              "      <th>Clicks</th>\n",
              "      <th>Converted</th>\n",
              "    </tr>\n",
              "  </thead>\n",
              "  <tbody>\n",
              "    <tr>\n",
              "      <th>0</th>\n",
              "      <td>UserA_10000</td>\n",
              "      <td>Control</td>\n",
              "      <td>2023-11-08</td>\n",
              "      <td>5</td>\n",
              "      <td>2</td>\n",
              "      <td>0</td>\n",
              "    </tr>\n",
              "    <tr>\n",
              "      <th>1</th>\n",
              "      <td>UserA_10001</td>\n",
              "      <td>Control</td>\n",
              "      <td>2023-11-14</td>\n",
              "      <td>8</td>\n",
              "      <td>7</td>\n",
              "      <td>1</td>\n",
              "    </tr>\n",
              "    <tr>\n",
              "      <th>2</th>\n",
              "      <td>UserA_10002</td>\n",
              "      <td>Control</td>\n",
              "      <td>2023-11-03</td>\n",
              "      <td>7</td>\n",
              "      <td>6</td>\n",
              "      <td>0</td>\n",
              "    </tr>\n",
              "    <tr>\n",
              "      <th>3</th>\n",
              "      <td>UserA_10003</td>\n",
              "      <td>Control</td>\n",
              "      <td>2023-11-06</td>\n",
              "      <td>6</td>\n",
              "      <td>2</td>\n",
              "      <td>0</td>\n",
              "    </tr>\n",
              "    <tr>\n",
              "      <th>4</th>\n",
              "      <td>UserA_10004</td>\n",
              "      <td>Control</td>\n",
              "      <td>2023-11-03</td>\n",
              "      <td>6</td>\n",
              "      <td>5</td>\n",
              "      <td>0</td>\n",
              "    </tr>\n",
              "  </tbody>\n",
              "</table>\n",
              "</div>\n",
              "    <div class=\"colab-df-buttons\">\n",
              "\n",
              "  <div class=\"colab-df-container\">\n",
              "    <button class=\"colab-df-convert\" onclick=\"convertToInteractive('df-6f974ced-7320-42a3-8121-a36554349bce')\"\n",
              "            title=\"Convert this dataframe to an interactive table.\"\n",
              "            style=\"display:none;\">\n",
              "\n",
              "  <svg xmlns=\"http://www.w3.org/2000/svg\" height=\"24px\" viewBox=\"0 -960 960 960\">\n",
              "    <path d=\"M120-120v-720h720v720H120Zm60-500h600v-160H180v160Zm220 220h160v-160H400v160Zm0 220h160v-160H400v160ZM180-400h160v-160H180v160Zm440 0h160v-160H620v160ZM180-180h160v-160H180v160Zm440 0h160v-160H620v160Z\"/>\n",
              "  </svg>\n",
              "    </button>\n",
              "\n",
              "  <style>\n",
              "    .colab-df-container {\n",
              "      display:flex;\n",
              "      gap: 12px;\n",
              "    }\n",
              "\n",
              "    .colab-df-convert {\n",
              "      background-color: #E8F0FE;\n",
              "      border: none;\n",
              "      border-radius: 50%;\n",
              "      cursor: pointer;\n",
              "      display: none;\n",
              "      fill: #1967D2;\n",
              "      height: 32px;\n",
              "      padding: 0 0 0 0;\n",
              "      width: 32px;\n",
              "    }\n",
              "\n",
              "    .colab-df-convert:hover {\n",
              "      background-color: #E2EBFA;\n",
              "      box-shadow: 0px 1px 2px rgba(60, 64, 67, 0.3), 0px 1px 3px 1px rgba(60, 64, 67, 0.15);\n",
              "      fill: #174EA6;\n",
              "    }\n",
              "\n",
              "    .colab-df-buttons div {\n",
              "      margin-bottom: 4px;\n",
              "    }\n",
              "\n",
              "    [theme=dark] .colab-df-convert {\n",
              "      background-color: #3B4455;\n",
              "      fill: #D2E3FC;\n",
              "    }\n",
              "\n",
              "    [theme=dark] .colab-df-convert:hover {\n",
              "      background-color: #434B5C;\n",
              "      box-shadow: 0px 1px 3px 1px rgba(0, 0, 0, 0.15);\n",
              "      filter: drop-shadow(0px 1px 2px rgba(0, 0, 0, 0.3));\n",
              "      fill: #FFFFFF;\n",
              "    }\n",
              "  </style>\n",
              "\n",
              "    <script>\n",
              "      const buttonEl =\n",
              "        document.querySelector('#df-6f974ced-7320-42a3-8121-a36554349bce button.colab-df-convert');\n",
              "      buttonEl.style.display =\n",
              "        google.colab.kernel.accessAllowed ? 'block' : 'none';\n",
              "\n",
              "      async function convertToInteractive(key) {\n",
              "        const element = document.querySelector('#df-6f974ced-7320-42a3-8121-a36554349bce');\n",
              "        const dataTable =\n",
              "          await google.colab.kernel.invokeFunction('convertToInteractive',\n",
              "                                                    [key], {});\n",
              "        if (!dataTable) return;\n",
              "\n",
              "        const docLinkHtml = 'Like what you see? Visit the ' +\n",
              "          '<a target=\"_blank\" href=https://colab.research.google.com/notebooks/data_table.ipynb>data table notebook</a>'\n",
              "          + ' to learn more about interactive tables.';\n",
              "        element.innerHTML = '';\n",
              "        dataTable['output_type'] = 'display_data';\n",
              "        await google.colab.output.renderOutput(dataTable, element);\n",
              "        const docLink = document.createElement('div');\n",
              "        docLink.innerHTML = docLinkHtml;\n",
              "        element.appendChild(docLink);\n",
              "      }\n",
              "    </script>\n",
              "  </div>\n",
              "\n",
              "\n",
              "    <div id=\"df-b5a3dd6c-ea54-4a9a-b6ff-e269e129b475\">\n",
              "      <button class=\"colab-df-quickchart\" onclick=\"quickchart('df-b5a3dd6c-ea54-4a9a-b6ff-e269e129b475')\"\n",
              "                title=\"Suggest charts\"\n",
              "                style=\"display:none;\">\n",
              "\n",
              "<svg xmlns=\"http://www.w3.org/2000/svg\" height=\"24px\"viewBox=\"0 0 24 24\"\n",
              "     width=\"24px\">\n",
              "    <g>\n",
              "        <path d=\"M19 3H5c-1.1 0-2 .9-2 2v14c0 1.1.9 2 2 2h14c1.1 0 2-.9 2-2V5c0-1.1-.9-2-2-2zM9 17H7v-7h2v7zm4 0h-2V7h2v10zm4 0h-2v-4h2v4z\"/>\n",
              "    </g>\n",
              "</svg>\n",
              "      </button>\n",
              "\n",
              "<style>\n",
              "  .colab-df-quickchart {\n",
              "      --bg-color: #E8F0FE;\n",
              "      --fill-color: #1967D2;\n",
              "      --hover-bg-color: #E2EBFA;\n",
              "      --hover-fill-color: #174EA6;\n",
              "      --disabled-fill-color: #AAA;\n",
              "      --disabled-bg-color: #DDD;\n",
              "  }\n",
              "\n",
              "  [theme=dark] .colab-df-quickchart {\n",
              "      --bg-color: #3B4455;\n",
              "      --fill-color: #D2E3FC;\n",
              "      --hover-bg-color: #434B5C;\n",
              "      --hover-fill-color: #FFFFFF;\n",
              "      --disabled-bg-color: #3B4455;\n",
              "      --disabled-fill-color: #666;\n",
              "  }\n",
              "\n",
              "  .colab-df-quickchart {\n",
              "    background-color: var(--bg-color);\n",
              "    border: none;\n",
              "    border-radius: 50%;\n",
              "    cursor: pointer;\n",
              "    display: none;\n",
              "    fill: var(--fill-color);\n",
              "    height: 32px;\n",
              "    padding: 0;\n",
              "    width: 32px;\n",
              "  }\n",
              "\n",
              "  .colab-df-quickchart:hover {\n",
              "    background-color: var(--hover-bg-color);\n",
              "    box-shadow: 0 1px 2px rgba(60, 64, 67, 0.3), 0 1px 3px 1px rgba(60, 64, 67, 0.15);\n",
              "    fill: var(--button-hover-fill-color);\n",
              "  }\n",
              "\n",
              "  .colab-df-quickchart-complete:disabled,\n",
              "  .colab-df-quickchart-complete:disabled:hover {\n",
              "    background-color: var(--disabled-bg-color);\n",
              "    fill: var(--disabled-fill-color);\n",
              "    box-shadow: none;\n",
              "  }\n",
              "\n",
              "  .colab-df-spinner {\n",
              "    border: 2px solid var(--fill-color);\n",
              "    border-color: transparent;\n",
              "    border-bottom-color: var(--fill-color);\n",
              "    animation:\n",
              "      spin 1s steps(1) infinite;\n",
              "  }\n",
              "\n",
              "  @keyframes spin {\n",
              "    0% {\n",
              "      border-color: transparent;\n",
              "      border-bottom-color: var(--fill-color);\n",
              "      border-left-color: var(--fill-color);\n",
              "    }\n",
              "    20% {\n",
              "      border-color: transparent;\n",
              "      border-left-color: var(--fill-color);\n",
              "      border-top-color: var(--fill-color);\n",
              "    }\n",
              "    30% {\n",
              "      border-color: transparent;\n",
              "      border-left-color: var(--fill-color);\n",
              "      border-top-color: var(--fill-color);\n",
              "      border-right-color: var(--fill-color);\n",
              "    }\n",
              "    40% {\n",
              "      border-color: transparent;\n",
              "      border-right-color: var(--fill-color);\n",
              "      border-top-color: var(--fill-color);\n",
              "    }\n",
              "    60% {\n",
              "      border-color: transparent;\n",
              "      border-right-color: var(--fill-color);\n",
              "    }\n",
              "    80% {\n",
              "      border-color: transparent;\n",
              "      border-right-color: var(--fill-color);\n",
              "      border-bottom-color: var(--fill-color);\n",
              "    }\n",
              "    90% {\n",
              "      border-color: transparent;\n",
              "      border-bottom-color: var(--fill-color);\n",
              "    }\n",
              "  }\n",
              "</style>\n",
              "\n",
              "      <script>\n",
              "        async function quickchart(key) {\n",
              "          const quickchartButtonEl =\n",
              "            document.querySelector('#' + key + ' button');\n",
              "          quickchartButtonEl.disabled = true;  // To prevent multiple clicks.\n",
              "          quickchartButtonEl.classList.add('colab-df-spinner');\n",
              "          try {\n",
              "            const charts = await google.colab.kernel.invokeFunction(\n",
              "                'suggestCharts', [key], {});\n",
              "          } catch (error) {\n",
              "            console.error('Error during call to suggestCharts:', error);\n",
              "          }\n",
              "          quickchartButtonEl.classList.remove('colab-df-spinner');\n",
              "          quickchartButtonEl.classList.add('colab-df-quickchart-complete');\n",
              "        }\n",
              "        (() => {\n",
              "          let quickchartButtonEl =\n",
              "            document.querySelector('#df-b5a3dd6c-ea54-4a9a-b6ff-e269e129b475 button');\n",
              "          quickchartButtonEl.style.display =\n",
              "            google.colab.kernel.accessAllowed ? 'block' : 'none';\n",
              "        })();\n",
              "      </script>\n",
              "    </div>\n",
              "\n",
              "    </div>\n",
              "  </div>\n"
            ],
            "application/vnd.google.colaboratory.intrinsic+json": {
              "type": "dataframe",
              "variable_name": "data",
              "summary": "{\n  \"name\": \"data\",\n  \"rows\": 10000,\n  \"fields\": [\n    {\n      \"column\": \"UserID\",\n      \"properties\": {\n        \"dtype\": \"string\",\n        \"num_unique_values\": 10000,\n        \"samples\": [\n          \"UserB_21252\",\n          \"UserA_14684\",\n          \"UserA_11731\"\n        ],\n        \"semantic_type\": \"\",\n        \"description\": \"\"\n      }\n    },\n    {\n      \"column\": \"Group\",\n      \"properties\": {\n        \"dtype\": \"category\",\n        \"num_unique_values\": 2,\n        \"samples\": [\n          \"Treatment\",\n          \"Control\"\n        ],\n        \"semantic_type\": \"\",\n        \"description\": \"\"\n      }\n    },\n    {\n      \"column\": \"Date\",\n      \"properties\": {\n        \"dtype\": \"object\",\n        \"num_unique_values\": 14,\n        \"samples\": [\n          \"2023-11-01\",\n          \"2023-11-09\"\n        ],\n        \"semantic_type\": \"\",\n        \"description\": \"\"\n      }\n    },\n    {\n      \"column\": \"PageViews\",\n      \"properties\": {\n        \"dtype\": \"number\",\n        \"std\": 4,\n        \"min\": 1,\n        \"max\": 20,\n        \"num_unique_values\": 20,\n        \"samples\": [\n          5,\n          2\n        ],\n        \"semantic_type\": \"\",\n        \"description\": \"\"\n      }\n    },\n    {\n      \"column\": \"Clicks\",\n      \"properties\": {\n        \"dtype\": \"number\",\n        \"std\": 4,\n        \"min\": 0,\n        \"max\": 16,\n        \"num_unique_values\": 17,\n        \"samples\": [\n          2,\n          7\n        ],\n        \"semantic_type\": \"\",\n        \"description\": \"\"\n      }\n    },\n    {\n      \"column\": \"Converted\",\n      \"properties\": {\n        \"dtype\": \"number\",\n        \"std\": 0,\n        \"min\": 0,\n        \"max\": 1,\n        \"num_unique_values\": 2,\n        \"samples\": [\n          1,\n          0\n        ],\n        \"semantic_type\": \"\",\n        \"description\": \"\"\n      }\n    }\n  ]\n}"
            }
          },
          "metadata": {},
          "execution_count": 42
        }
      ]
    },
    {
      "cell_type": "code",
      "source": [
        "# 1. Check for duplicate users\n",
        "duplicate_users = data['UserID'].duplicated().sum()\n",
        "print(f\"Users appearing more than once: {duplicate_users}\")"
      ],
      "metadata": {
        "colab": {
          "base_uri": "https://localhost:8080/"
        },
        "id": "iNi6_MfzejX5",
        "outputId": "1f7df93d-bf1d-4d63-c3c5-f01f5cfd3944"
      },
      "execution_count": 43,
      "outputs": [
        {
          "output_type": "stream",
          "name": "stdout",
          "text": [
            "Users appearing more than once: 0\n"
          ]
        }
      ]
    },
    {
      "cell_type": "code",
      "source": [
        "# 2. Check for missing values\n",
        "missing_values = data.isnull().sum()\n",
        "print(\"Missing values per column:\\n\", missing_values)"
      ],
      "metadata": {
        "colab": {
          "base_uri": "https://localhost:8080/"
        },
        "id": "rz7nNsKQfY8A",
        "outputId": "a5dc1c4a-a159-4fc3-96a6-6202c548be58"
      },
      "execution_count": 44,
      "outputs": [
        {
          "output_type": "stream",
          "name": "stdout",
          "text": [
            "Missing values per column:\n",
            " UserID       0\n",
            "Group        0\n",
            "Date         0\n",
            "PageViews    0\n",
            "Clicks       0\n",
            "Converted    0\n",
            "dtype: int64\n"
          ]
        }
      ]
    },
    {
      "cell_type": "code",
      "source": [
        "# 3a. Check for invalid Clicks > PageViews\n",
        "invalid_clicks = (data['Clicks'] > data['PageViews']).sum()\n",
        "print(f\" Rows where Clicks > PageViews: {invalid_clicks}\")"
      ],
      "metadata": {
        "colab": {
          "base_uri": "https://localhost:8080/"
        },
        "id": "-dsiNZX3feDm",
        "outputId": "3521b275-c2bd-4cd5-bb59-3ce55bf82c4c"
      },
      "execution_count": 45,
      "outputs": [
        {
          "output_type": "stream",
          "name": "stdout",
          "text": [
            " Rows where Clicks > PageViews: 0\n"
          ]
        }
      ]
    },
    {
      "cell_type": "code",
      "source": [
        "# 3b. Check for 0 or negative PageViews\n",
        "bad_pageviews = (data['PageViews'] <= 0).sum()\n",
        "print(f\"Users with 0 or negative pageviews: {bad_pageviews}\")"
      ],
      "metadata": {
        "colab": {
          "base_uri": "https://localhost:8080/"
        },
        "id": "uK8lq64VfnV-",
        "outputId": "ba247c96-7a4c-4fac-fc61-dc081cbdfd67"
      },
      "execution_count": 46,
      "outputs": [
        {
          "output_type": "stream",
          "name": "stdout",
          "text": [
            "Users with 0 or negative pageviews: 0\n"
          ]
        }
      ]
    },
    {
      "cell_type": "code",
      "source": [
        "# 4. Optional: Visualize outliers\n",
        "import seaborn as sns\n",
        "import matplotlib.pyplot as plt\n",
        "\n",
        "plt.figure(figsize=(10, 4))\n",
        "sns.boxplot(x='Group', y='Clicks', data=data)\n",
        "plt.title(\"Clicks Distribution by Group\")\n",
        "plt.show()\n",
        "\n",
        "plt.figure(figsize=(10, 4))\n",
        "sns.boxplot(x='Group', y='PageViews', data=data)\n",
        "plt.title(\"PageViews Distribution by Group\")\n",
        "plt.show()"
      ],
      "metadata": {
        "colab": {
          "base_uri": "https://localhost:8080/",
          "height": 803
        },
        "id": "-_M1N0EEfuBo",
        "outputId": "0abe5c91-d764-4943-97cb-34bf3ce60ca8"
      },
      "execution_count": 47,
      "outputs": [
        {
          "output_type": "display_data",
          "data": {
            "text/plain": [
              "<Figure size 1000x400 with 1 Axes>"
            ],
            "image/png": "[encoded data removed]"
          },
          "metadata": {}
        },
        {
          "output_type": "display_data",
          "data": {
            "text/plain": [
              "<Figure size 1000x400 with 1 Axes>"
            ],
            "image/png": "[encoded data removed]"
          },
          "metadata": {}
        }
      ]
    },
    {
      "cell_type": "code",
      "source": [
        "# Check if any user is im both groups\n",
        "user_counts = data.groupby('UserID')['Group'].nunique()\n",
        "overlap_users = user_counts[user_counts > 1].count()\n",
        "print(f\"Users assigned to both groups: {overlap_users}\")"
      ],
      "metadata": {
        "colab": {
          "base_uri": "https://localhost:8080/"
        },
        "id": "WR8wN0KGgrgJ",
        "outputId": "2083c2e6-c7d5-45b8-9c66-82e290dad504"
      },
      "execution_count": 48,
      "outputs": [
        {
          "output_type": "stream",
          "name": "stdout",
          "text": [
            "Users assigned to both groups: 0\n"
          ]
        }
      ]
    },
    {
      "cell_type": "code",
      "source": [
        "group_sizes = data['Group'].value_counts()\n",
        "print(\" Number of users per group:\\n\", group_sizes)"
      ],
      "metadata": {
        "colab": {
          "base_uri": "https://localhost:8080/"
        },
        "id": "p7u7347Ik-wN",
        "outputId": "a3277dc5-5765-4bb5-b778-7c4f1e8f7f9a"
      },
      "execution_count": 49,
      "outputs": [
        {
          "output_type": "stream",
          "name": "stdout",
          "text": [
            " Number of users per group:\n",
            " Group\n",
            "Control      5000\n",
            "Treatment    5000\n",
            "Name: count, dtype: int64\n"
          ]
        }
      ]
    },
    {
      "cell_type": "code",
      "source": [
        "data.groupby('Group')['UserID'].apply(lambda ids: ids.str.startswith('UserA_').mean())"
      ],
      "metadata": {
        "colab": {
          "base_uri": "https://localhost:8080/",
          "height": 178
        },
        "id": "y0184VU2lD7E",
        "outputId": "71a16896-0d8e-45cd-9b79-df743d9385e5"
      },
      "execution_count": 50,
      "outputs": [
        {
          "output_type": "execute_result",
          "data": {
            "text/plain": [
              "Group\n",
              "Control      1.0\n",
              "Treatment    0.0\n",
              "Name: UserID, dtype: float64"
            ],
            "text/html": [
              "<div>\n",
              "<style scoped>\n",
              "    .dataframe tbody tr th:only-of-type {\n",
              "        vertical-align: middle;\n",
              "    }\n",
              "\n",
              "    .dataframe tbody tr th {\n",
              "        vertical-align: top;\n",
              "    }\n",
              "\n",
              "    .dataframe thead th {\n",
              "        text-align: right;\n",
              "    }\n",
              "</style>\n",
              "<table border=\"1\" class=\"dataframe\">\n",
              "  <thead>\n",
              "    <tr style=\"text-align: right;\">\n",
              "      <th></th>\n",
              "      <th>UserID</th>\n",
              "    </tr>\n",
              "    <tr>\n",
              "      <th>Group</th>\n",
              "      <th></th>\n",
              "    </tr>\n",
              "  </thead>\n",
              "  <tbody>\n",
              "    <tr>\n",
              "      <th>Control</th>\n",
              "      <td>1.0</td>\n",
              "    </tr>\n",
              "    <tr>\n",
              "      <th>Treatment</th>\n",
              "      <td>0.0</td>\n",
              "    </tr>\n",
              "  </tbody>\n",
              "</table>\n",
              "</div><br><label><b>dtype:</b> float64</label>"
            ]
          },
          "metadata": {},
          "execution_count": 50
        }
      ]
    },
    {
      "cell_type": "code",
      "source": [
        "# Group Assignment Validation\n",
        "\n",
        "# - No users appear in both Control and Treatment groups — groups are mutually exclusive.\n",
        "# - Each group contains exactly 5,000 users, ensuring a balanced test.\n",
        "# - User IDs are uniquely prefixed (`UserA_` for Control, `UserB_` for Treatment), confirming proper assignment.\n",
        "\n",
        "# → Group assignment is valid and ready for analysis.\n"
      ],
      "metadata": {
        "id": "QswiyVvUn-qH"
      },
      "execution_count": 51,
      "outputs": []
    },
    {
      "cell_type": "markdown",
      "source": [
        "**Key Metrics**"
      ],
      "metadata": {
        "id": "L5l5U60EomgA"
      }
    },
    {
      "cell_type": "code",
      "source": [
        "# Group by Control and Treatment and calculate average conversion\n",
        "conversion_rates = data.groupby('Group')['Converted'].agg(['count', 'sum', 'mean']).rename(columns={\n",
        "    'count': 'Total Users',\n",
        "    'sum': 'Total Conversions',\n",
        "    'mean': 'Conversion Rate'\n",
        "})\n",
        "\n",
        "print(conversion_rates)\n"
      ],
      "metadata": {
        "colab": {
          "base_uri": "https://localhost:8080/"
        },
        "id": "977dVxD0ofdC",
        "outputId": "6d2ff7fa-ed79-4318-a2be-4518c96984c7"
      },
      "execution_count": 52,
      "outputs": [
        {
          "output_type": "stream",
          "name": "stdout",
          "text": [
            "           Total Users  Total Conversions  Conversion Rate\n",
            "Group                                                     \n",
            "Control           5000                479           0.0958\n",
            "Treatment         5000                590           0.1180\n"
          ]
        }
      ]
    },
    {
      "cell_type": "code",
      "source": [
        "cr_control = 0.0958\n",
        "cr_treatment = 0.1180\n",
        "\n",
        "difference = cr_treatment - cr_control\n",
        "print(f\"Observed Difference in Conversion Rate: {difference:.4f}\")\n"
      ],
      "metadata": {
        "colab": {
          "base_uri": "https://localhost:8080/"
        },
        "id": "nfpS73HYqn1Z",
        "outputId": "a671d7b6-cda3-460b-c93b-ebf4e784bb54"
      },
      "execution_count": 53,
      "outputs": [
        {
          "output_type": "stream",
          "name": "stdout",
          "text": [
            "Observed Difference in Conversion Rate: 0.0222\n"
          ]
        }
      ]
    },
    {
      "cell_type": "markdown",
      "source": [
        "**Statistical Significance Testing**"
      ],
      "metadata": {
        "id": "hckgSeT_sXsB"
      }
    },
    {
      "cell_type": "markdown",
      "source": [
        "###  Chosen Statistical Test\n",
        "\n",
        "We will use a **two-tailed Z-test for proportions** to determine whether the difference in conversion rates between the Control and Treatment groups is statistically significant.\n",
        "\n",
        "- This test is appropriate because:\n",
        "  - The outcome (conversion) is binary.\n",
        "  - We are comparing **proportions** across **two independent groups**.\n",
        "  - The sample size is large (n > 30 for both groups), satisfying conditions for normal approximation.\n"
      ],
      "metadata": {
        "id": "R_RvIUj1s8JZ"
      }
    },
    {
      "cell_type": "code",
      "source": [
        "from statsmodels.stats.proportion import proportions_ztest, confint_proportions_2indep\n",
        "\n",
        "# Group counts\n",
        "control_conversions = 479\n",
        "treatment_conversions = 590\n",
        "n_control = 5000\n",
        "n_treatment = 5000\n",
        "\n",
        "# Z-test for proportions\n",
        "counts = np.array([treatment_conversions, control_conversions])\n",
        "nobs = np.array([n_treatment, n_control])\n",
        "\n",
        "z_stat, p_value = proportions_ztest(counts, nobs, alternative='two-sided')\n",
        "\n",
        "# Confidence Interval for the difference\n",
        "ci_low, ci_upp = confint_proportions_2indep(count1=treatment_conversions,\n",
        "                                            nobs1=n_treatment,\n",
        "                                            count2=control_conversions,\n",
        "                                            nobs2=n_control,\n",
        "                                            method='wald')\n",
        "\n",
        "print(f\" Z-statistic: {z_stat:.4f}\")\n",
        "print(f\" p-value: {p_value:.4f}\")\n",
        "print(f\" 95% Confidence Interval for Difference: ({ci_low:.4f}, {ci_upp:.4f})\")\n",
        "\n",
        "# Check statistical significance\n",
        "alpha = 0.05\n",
        "if p_value < alpha:\n",
        "    print(\" Statistically significant difference (Reject H₀)\")\n",
        "else:\n",
        "    print(\" Not statistically significant (Fail to reject H₀)\")"
      ],
      "metadata": {
        "colab": {
          "base_uri": "https://localhost:8080/"
        },
        "id": "dnHtMWpxq4uI",
        "outputId": "61632149-4027-4ade-e4b3-3ff7846fd800"
      },
      "execution_count": 54,
      "outputs": [
        {
          "output_type": "stream",
          "name": "stdout",
          "text": [
            " Z-statistic: 3.5924\n",
            " p-value: 0.0003\n",
            " 95% Confidence Interval for Difference: (0.0101, 0.0343)\n",
            " Statistically significant difference (Reject H₀)\n"
          ]
        }
      ]
    },
    {
      "cell_type": "markdown",
      "source": [
        "### Practical Significance\n",
        "\n",
        "- The observed **2.22% absolute uplift** (23% relative) in conversion rate is both **statistically** and **practically** significant.\n",
        "- Even the lower bound of the 95% confidence interval (1.01%) indicates a meaningful improvement.\n",
        "- In real-world terms, this uplift could translate to thousands of extra conversions per month.\n",
        "Therefore, the new feature not only passes statistical testing — it also offers tangible business value.\n"
      ],
      "metadata": {
        "id": "RkPbj14QxQhg"
      }
    },
    {
      "cell_type": "markdown",
      "source": [
        "---------------------------------------------------------------------------------------------------------------------------------------------------------------------------------------------------------------------\n"
      ],
      "metadata": {
        "id": "Qa0j1L4exezC"
      }
    },
    {
      "cell_type": "markdown",
      "source": [
        "###  Power Analysis Consideration\n",
        "\n",
        "Since the test result is **statistically significant (p = 0.0003)** and the confidence interval excludes zero,  \n",
        "a power analysis is **not required**. The sample size (n = 5,000 per group) was sufficient to detect the observed effect.\n"
      ],
      "metadata": {
        "id": "_aQAp2ZpxiEn"
      }
    },
    {
      "cell_type": "markdown",
      "source": [
        "------------------------------------------------------------------------------------------------------------------------------------------------------------------------------------------------------------------------"
      ],
      "metadata": {
        "id": "bawVcqO8xzV8"
      }
    },
    {
      "cell_type": "markdown",
      "source": [
        "### 🧠 Final Interpretation & Recommendation\n",
        "\n",
        "- The A/B test revealed a statistically significant uplift in conversion rate:\n",
        "  - Control Group: 9.58%\n",
        "  - Treatment Group: 11.80%\n",
        "  - Absolute Difference: +2.22%\n",
        "- p-value = 0.0003 (significant), 95% CI = (1.01%, 3.43%)\n",
        "- This result is both **statistically and practically significant**.\n",
        "\n",
        " **Conclusion:**  \n",
        "The new feature had a **positive impact** on conversion rates.\n",
        "\n",
        " **Recommendation:**  \n",
        "Proceed with a **full rollout** of the feature.\n",
        "\n",
        " **Optional Next Step:**  \n",
        "Segment the results (e.g., new vs. returning users) to identify if certain user groups responded better.\n"
      ],
      "metadata": {
        "id": "J6Bk0XkGx36L"
      }
    },
    {
      "cell_type": "code",
      "source": [],
      "metadata": {
        "id": "rRG0hh8dAM0W"
      },
      "execution_count": null,
      "outputs": []
    }
  ]
}